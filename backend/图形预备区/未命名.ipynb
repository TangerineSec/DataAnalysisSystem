{
 "cells": [
  {
   "attachments": {},
   "cell_type": "markdown",
   "id": "c9115ff8",
   "metadata": {},
   "source": []
  },
  {
   "cell_type": "code",
   "execution_count": 1,
   "id": "2d418056",
   "metadata": {},
   "outputs": [],
   "source": [
    "import pandas as pd\n",
    "import numpy as np"
   ]
  },
  {
   "cell_type": "code",
   "execution_count": null,
   "id": "1013847c",
   "metadata": {},
   "outputs": [],
   "source": []
  },
  {
   "cell_type": "code",
   "execution_count": 2,
   "id": "7e84381d",
   "metadata": {},
   "outputs": [],
   "source": [
    "# 图标范例\n",
    "# 年份\t优秀\t良好\t中等\t及格\t不及格\n",
    "# 2019\t60%\t10%\t10%\t10%\t10%\n",
    "# 2020\t75%\t10%\t5%\t10\t10%\n",
    "# 2021\t80%\t10%\t5%\t0%\t5%\n",
    "# 2022\t88%\t5%\t5%\t2%\t0%\n",
    "# 2023\t90%\t5%\t5%\t0%\t0%\n",
    "# 获取y轴的有多少个,出去第一行表头,然后按表头取值,可以测试多个年份得到的散点图.\n",
    "# 如果有多个年份,有多少年份,就有多少年的x轴,然后每一年对应优秀良好等等的得分率."
   ]
  },
  {
   "cell_type": "code",
   "execution_count": 3,
   "id": "d3719099",
   "metadata": {},
   "outputs": [
    {
     "data": {
      "text/html": [
       "<div>\n",
       "<style scoped>\n",
       "    .dataframe tbody tr th:only-of-type {\n",
       "        vertical-align: middle;\n",
       "    }\n",
       "\n",
       "    .dataframe tbody tr th {\n",
       "        vertical-align: top;\n",
       "    }\n",
       "\n",
       "    .dataframe thead th {\n",
       "        text-align: right;\n",
       "    }\n",
       "</style>\n",
       "<table border=\"1\" class=\"dataframe\">\n",
       "  <thead>\n",
       "    <tr style=\"text-align: right;\">\n",
       "      <th></th>\n",
       "      <th>年份</th>\n",
       "      <th>优秀</th>\n",
       "      <th>良好</th>\n",
       "      <th>中等</th>\n",
       "      <th>及格</th>\n",
       "      <th>不及格</th>\n",
       "    </tr>\n",
       "  </thead>\n",
       "  <tbody>\n",
       "    <tr>\n",
       "      <th>0</th>\n",
       "      <td>2019</td>\n",
       "      <td>0.60</td>\n",
       "      <td>0.10</td>\n",
       "      <td>0.10</td>\n",
       "      <td>0.10</td>\n",
       "      <td>0.10</td>\n",
       "    </tr>\n",
       "    <tr>\n",
       "      <th>1</th>\n",
       "      <td>2020</td>\n",
       "      <td>0.75</td>\n",
       "      <td>0.10</td>\n",
       "      <td>0.05</td>\n",
       "      <td>0.00</td>\n",
       "      <td>0.10</td>\n",
       "    </tr>\n",
       "    <tr>\n",
       "      <th>2</th>\n",
       "      <td>2021</td>\n",
       "      <td>0.80</td>\n",
       "      <td>0.10</td>\n",
       "      <td>0.05</td>\n",
       "      <td>0.00</td>\n",
       "      <td>0.05</td>\n",
       "    </tr>\n",
       "    <tr>\n",
       "      <th>3</th>\n",
       "      <td>2022</td>\n",
       "      <td>0.88</td>\n",
       "      <td>0.05</td>\n",
       "      <td>0.05</td>\n",
       "      <td>0.02</td>\n",
       "      <td>0.00</td>\n",
       "    </tr>\n",
       "    <tr>\n",
       "      <th>4</th>\n",
       "      <td>2023</td>\n",
       "      <td>0.90</td>\n",
       "      <td>0.05</td>\n",
       "      <td>0.05</td>\n",
       "      <td>0.00</td>\n",
       "      <td>0.00</td>\n",
       "    </tr>\n",
       "  </tbody>\n",
       "</table>\n",
       "</div>"
      ],
      "text/plain": [
       "     年份    优秀    良好    中等    及格   不及格\n",
       "0  2019  0.60  0.10  0.10  0.10  0.10\n",
       "1  2020  0.75  0.10  0.05  0.00  0.10\n",
       "2  2021  0.80  0.10  0.05  0.00  0.05\n",
       "3  2022  0.88  0.05  0.05  0.02  0.00\n",
       "4  2023  0.90  0.05  0.05  0.00  0.00"
      ]
     },
     "execution_count": 3,
     "metadata": {},
     "output_type": "execute_result"
    }
   ],
   "source": [
    "# 读表\n",
    "table=pd.read_excel(\"功能9模版：年得分率散点图.xlsx\",header=0)\n",
    "# 竖向方向有5个年份\n",
    "x_number=len(table.index) # x值5个\n",
    "# 横向方向有6个等级\n",
    "y_number=len(table.columns[1:]) # y值5个"
   ]
  },
  {
   "cell_type": "code",
   "execution_count": 9,
   "id": "d6245d7c",
   "metadata": {},
   "outputs": [],
   "source": [
    "x_value = [year + \"年\" for year in table['年份'].astype(str).values.tolist()] # [\"2019年\", \"2020年\", \"2021年\", \"2022年\", \"2023年\"]"
   ]
  },
  {
   "cell_type": "code",
   "execution_count": 5,
   "id": "d7aadc06",
   "metadata": {},
   "outputs": [],
   "source": [
    "y_value1=table['不及格'].astype(float).values.tolist()\n",
    "y_value2=table['及格'].astype(float).values.tolist()\n",
    "y_value3=table['中等'].astype(float).values.tolist()\n",
    "y_value4=table['良好'].astype(float).values.tolist()\n",
    "y_value5=table['优秀'].astype(float).values.tolist()"
   ]
  },
  {
   "cell_type": "code",
   "execution_count": 22,
   "id": "fe5f7a86",
   "metadata": {},
   "outputs": [
    {
     "data": {
      "text/plain": [
       "'x:\\\\PythonAssignment\\\\Vue与Xiaoyu\\\\backend\\\\图形预备区\\\\stacked_area_chart.html'"
      ]
     },
     "execution_count": 22,
     "metadata": {},
     "output_type": "execute_result"
    }
   ],
   "source": [
    "import pyecharts.options as opts\n",
    "from pyecharts.charts import Line\n",
    "from pyecharts.globals import ThemeType\n",
    "\n",
    "\n",
    "x_data = x_value\n",
    "(\n",
    "    Line(init_opts=opts.InitOpts(\n",
    "        width=\"1800px\",\n",
    "        height=\"800px\",\n",
    "        theme=ThemeType.ESSOS,\n",
    "        renderer=\"svg\",\n",
    "        page_title=\"Stacked Area Charts\",\n",
    "    ))\n",
    "    .add_xaxis(xaxis_data=x_data)\n",
    "    .add_yaxis(\n",
    "        series_name=\"优秀\",\n",
    "        stack=\"总量\",\n",
    "        y_axis=y_value5,\n",
    "        areastyle_opts=opts.AreaStyleOpts(opacity=0.5),\n",
    "        label_opts=opts.LabelOpts(is_show=True, position=\"top\"),\n",
    "    )\n",
    "    .add_yaxis(\n",
    "        series_name=\"良好\",\n",
    "        stack=\"总量\",\n",
    "        y_axis=y_value4,\n",
    "       areastyle_opts=opts.AreaStyleOpts(opacity=0.5),\n",
    "        label_opts=opts.LabelOpts(is_show=True),\n",
    "    )\n",
    "    .add_yaxis(\n",
    "        series_name=\"中等\",\n",
    "        stack=\"总量\",\n",
    "        y_axis=y_value3,\n",
    "        areastyle_opts=opts.AreaStyleOpts(opacity=0.5),\n",
    "        label_opts=opts.LabelOpts(is_show=True),\n",
    "    )\n",
    "    .add_yaxis(\n",
    "        series_name=\"及格\",\n",
    "        stack=\"总量\",\n",
    "        y_axis=y_value2,\n",
    "        areastyle_opts=opts.AreaStyleOpts(opacity=0.5),\n",
    "        label_opts=opts.LabelOpts(is_show=True),\n",
    "    )\n",
    "    .add_yaxis(\n",
    "        series_name=\"不及格\",\n",
    "        stack=\"总量\",\n",
    "        y_axis=y_value1,\n",
    "        areastyle_opts=opts.AreaStyleOpts(opacity=0.5),\n",
    "        label_opts=opts.LabelOpts(is_show=True),\n",
    "    )\n",
    "    \n",
    "    .set_global_opts(\n",
    "        title_opts=opts.TitleOpts(title=\"历年得分率等级趋势\"),\n",
    "        tooltip_opts=opts.TooltipOpts(trigger=\"axis\", axis_pointer_type=\"cross\"),\n",
    "        yaxis_opts=opts.AxisOpts(\n",
    "            type_=\"value\",\n",
    "            axistick_opts=opts.AxisTickOpts(is_show=True),\n",
    "            splitline_opts=opts.SplitLineOpts(is_show=True),\n",
    "        ),\n",
    "        xaxis_opts=opts.AxisOpts(type_=\"category\", boundary_gap=False),\n",
    "    )\n",
    "    .render(\"stacked_area_chart.html\")\n",
    ")"
   ]
  },
  {
   "cell_type": "code",
   "execution_count": null,
   "id": "38f92832",
   "metadata": {},
   "outputs": [],
   "source": []
  },
  {
   "cell_type": "code",
   "execution_count": null,
   "id": "444d6f86",
   "metadata": {},
   "outputs": [],
   "source": []
  },
  {
   "cell_type": "code",
   "execution_count": null,
   "id": "561dfb5c",
   "metadata": {},
   "outputs": [],
   "source": []
  },
  {
   "cell_type": "code",
   "execution_count": null,
   "id": "a9fa6c2d",
   "metadata": {},
   "outputs": [],
   "source": []
  },
  {
   "cell_type": "code",
   "execution_count": null,
   "id": "faebd879",
   "metadata": {},
   "outputs": [],
   "source": []
  },
  {
   "cell_type": "code",
   "execution_count": 6,
   "id": "8a649305",
   "metadata": {},
   "outputs": [
    {
     "data": {
      "text/plain": [
       "'不及格'"
      ]
     },
     "execution_count": 6,
     "metadata": {},
     "output_type": "execute_result"
    }
   ],
   "source": []
  },
  {
   "attachments": {},
   "cell_type": "markdown",
   "id": "17f6092a",
   "metadata": {},
   "source": [
    "# PNG转为灰度图"
   ]
  },
  {
   "cell_type": "code",
   "execution_count": 7,
   "id": "6a2bbcee",
   "metadata": {},
   "outputs": [],
   "source": [
    "# 可使用pip install Pillow安装\n",
    "from PIL import Image \n",
    "# 输入彩色图片\n",
    "image = Image.open('time.png')\n",
    "# 转换步骤指信\n",
    "gray_image = image.convert('L')\n",
    "# 输出灰度图\n",
    "gray_image.save('output.png')"
   ]
  },
  {
   "cell_type": "code",
   "execution_count": 8,
   "id": "104e5c71",
   "metadata": {},
   "outputs": [
    {
     "data": {
      "text/plain": [
       "'x:\\\\PythonAssignment\\\\Vue与Xiaoyu\\\\backend\\\\图形预备区\\\\stacked_area_chart.html'"
      ]
     },
     "execution_count": 8,
     "metadata": {},
     "output_type": "execute_result"
    }
   ],
   "source": []
  },
  {
   "cell_type": "code",
   "execution_count": null,
   "id": "dcebc441",
   "metadata": {},
   "outputs": [],
   "source": []
  },
  {
   "cell_type": "code",
   "execution_count": null,
   "id": "ab29144a",
   "metadata": {},
   "outputs": [],
   "source": []
  }
 ],
 "metadata": {
  "kernelspec": {
   "display_name": "Python 3 (ipykernel)",
   "language": "python",
   "name": "python3"
  },
  "language_info": {
   "codemirror_mode": {
    "name": "ipython",
    "version": 3
   },
   "file_extension": ".py",
   "mimetype": "text/x-python",
   "name": "python",
   "nbconvert_exporter": "python",
   "pygments_lexer": "ipython3",
   "version": "3.9.5"
  }
 },
 "nbformat": 4,
 "nbformat_minor": 5
}
